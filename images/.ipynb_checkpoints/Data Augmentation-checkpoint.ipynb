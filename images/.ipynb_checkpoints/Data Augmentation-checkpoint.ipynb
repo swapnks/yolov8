{
 "cells": [
  {
   "cell_type": "code",
   "execution_count": 8,
   "id": "a012ef97-d011-41f3-b53e-b7bdd49ae032",
   "metadata": {},
   "outputs": [],
   "source": [
    "from keras.preprocessing.image import ImageDataGenerator, array_to_img, img_to_array, load_img\n",
    "from skimage import io"
   ]
  },
  {
   "cell_type": "code",
   "execution_count": 27,
   "id": "c09049fe-1eb7-4f60-8bf0-ac6561e8cf30",
   "metadata": {},
   "outputs": [],
   "source": [
    "datagen = ImageDataGenerator(\n",
    "        rotation_range=45,     #Random rotation between 0 and 45\n",
    "        width_shift_range=0.2,   #% shift\n",
    "        height_shift_range=0.2,\n",
    "        shear_range=0.2,\n",
    "        zoom_range=0.2,\n",
    "        horizontal_flip=True,\n",
    "        fill_mode='constant')"
   ]
  },
  {
   "cell_type": "code",
   "execution_count": 28,
   "id": "9d317077-4959-499b-873d-61a59e447b0f",
   "metadata": {},
   "outputs": [
    {
     "name": "stdout",
     "output_type": "stream",
     "text": [
      "(400, 267, 3)\n",
      "(1, 400, 267, 3)\n"
     ]
    }
   ],
   "source": [
    "img = load_img(\"/Users/skshah/yolo/images/incorrect/maksssksksss309.png\")\n",
    "X = img_to_array(img)\n",
    "print(X.shape)\n",
    "X = X.reshape((1, ) + X.shape)\n",
    "print(X.shape)\n",
    "\n",
    "\n",
    "i = 0\n",
    "for batch in datagen.flow(X, batch_size=16,\n",
    "                         save_to_dir=\"augmented\",\n",
    "                         save_prefix=\"new\",\n",
    "                         save_format=\"png\"):\n",
    "    i += 1\n",
    "    if i> 20:\n",
    "        break"
   ]
  },
  {
   "cell_type": "code",
   "execution_count": 29,
   "id": "04fb6e40-1453-4e38-93fb-6dba29250ba2",
   "metadata": {},
   "outputs": [],
   "source": []
  },
  {
   "cell_type": "code",
   "execution_count": null,
   "id": "2fea2f0a-2dbe-4ae1-a9f2-482304e94c89",
   "metadata": {},
   "outputs": [],
   "source": []
  }
 ],
 "metadata": {
  "kernelspec": {
   "display_name": "Python 3 (ipykernel)",
   "language": "python",
   "name": "python3"
  },
  "language_info": {
   "codemirror_mode": {
    "name": "ipython",
    "version": 3
   },
   "file_extension": ".py",
   "mimetype": "text/x-python",
   "name": "python",
   "nbconvert_exporter": "python",
   "pygments_lexer": "ipython3",
   "version": "3.8.16"
  }
 },
 "nbformat": 4,
 "nbformat_minor": 5
}
