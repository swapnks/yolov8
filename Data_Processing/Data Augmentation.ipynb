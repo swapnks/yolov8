{
 "cells": [
  {
   "cell_type": "code",
   "execution_count": 70,
   "id": "a012ef97-d011-41f3-b53e-b7bdd49ae032",
   "metadata": {},
   "outputs": [
    {
     "ename": "ImportError",
     "evalue": "cannot import name 'image' from 'PIL' (/Users/skshah/env/lib/python3.8/site-packages/PIL/__init__.py)",
     "output_type": "error",
     "traceback": [
      "\u001b[0;31m---------------------------------------------------------------------------\u001b[0m",
      "\u001b[0;31mImportError\u001b[0m                               Traceback (most recent call last)",
      "Cell \u001b[0;32mIn[70], line 5\u001b[0m\n\u001b[1;32m      3\u001b[0m \u001b[38;5;28;01mimport\u001b[39;00m \u001b[38;5;21;01mnumpy\u001b[39;00m \u001b[38;5;28;01mas\u001b[39;00m \u001b[38;5;21;01mnp\u001b[39;00m\n\u001b[1;32m      4\u001b[0m \u001b[38;5;28;01mimport\u001b[39;00m \u001b[38;5;21;01mos\u001b[39;00m\n\u001b[0;32m----> 5\u001b[0m \u001b[38;5;28;01mfrom\u001b[39;00m \u001b[38;5;21;01mPIL\u001b[39;00m \u001b[38;5;28;01mimport\u001b[39;00m image\n",
      "\u001b[0;31mImportError\u001b[0m: cannot import name 'image' from 'PIL' (/Users/skshah/env/lib/python3.8/site-packages/PIL/__init__.py)"
     ]
    }
   ],
   "source": [
    "from keras.preprocessing.image import ImageDataGenerator, array_to_img, img_to_array, load_img\n",
    "from skimage import io\n",
    "import numpy as np\n",
    "import os\n",
    "from PIL import image"
   ]
  },
  {
   "cell_type": "code",
   "execution_count": null,
   "id": "fc9ab88f-36c3-4c38-a41c-b55248b87dc7",
   "metadata": {},
   "outputs": [],
   "source": []
  },
  {
   "cell_type": "code",
   "execution_count": 71,
   "id": "c09049fe-1eb7-4f60-8bf0-ac6561e8cf30",
   "metadata": {},
   "outputs": [],
   "source": [
    "datagen = ImageDataGenerator(\n",
    "        rotation_range=45,     #Random rotation between 0 and 45\n",
    "        width_shift_range=0.2,   #% shift\n",
    "        height_shift_range=0.2,\n",
    "        shear_range=0.2,\n",
    "        zoom_range=0.2,\n",
    "        horizontal_flip=True,\n",
    "        fill_mode='constant')"
   ]
  },
  {
   "cell_type": "code",
   "execution_count": 72,
   "id": "9d317077-4959-499b-873d-61a59e447b0f",
   "metadata": {},
   "outputs": [
    {
     "name": "stdout",
     "output_type": "stream",
     "text": [
      "(400, 267, 3)\n",
      "(1, 400, 267, 3)\n"
     ]
    }
   ],
   "source": [
    "img = load_img(\"/Users/skshah/yolo/images/incorrect/maksssksksss309.png\")\n",
    "X = img_to_array(img)\n",
    "print(X.shape)\n",
    "X = X.reshape((1, ) + X.shape)\n",
    "print(X.shape)\n",
    "\n",
    "\n",
    "i = 0\n",
    "for batch in datagen.flow(X, batch_size=16,\n",
    "                         save_to_dir=\"augmented\",\n",
    "                         save_prefix=\"new\",\n",
    "                         save_format=\"png\"):\n",
    "    i += 1\n",
    "    if i> 20:\n",
    "        break"
   ]
  },
  {
   "cell_type": "code",
   "execution_count": 73,
   "id": "04fb6e40-1453-4e38-93fb-6dba29250ba2",
   "metadata": {},
   "outputs": [],
   "source": [
    "img_dir = \"/Users/skshah/yolo/images/incorrect\"\n",
    "images = os.listdir(img_dir)"
   ]
  },
  {
   "cell_type": "code",
   "execution_count": 74,
   "id": "a84b9ea7-905b-4b0e-ad03-597f340cf6bb",
   "metadata": {},
   "outputs": [
    {
     "name": "stdout",
     "output_type": "stream",
     "text": [
      "(400, 275, 3)\n",
      "(1, 400, 275, 3)\n",
      "(226, 400, 3)\n",
      "(1, 226, 400, 3)\n",
      "(287, 510, 3)\n",
      "(1, 287, 510, 3)\n",
      "(400, 280, 3)\n",
      "(1, 400, 280, 3)\n",
      "(400, 267, 3)\n",
      "(1, 400, 267, 3)\n",
      "(575, 441, 3)\n",
      "(1, 575, 441, 3)\n",
      "(400, 323, 3)\n",
      "(1, 400, 323, 3)\n",
      "(400, 267, 3)\n",
      "(1, 400, 267, 3)\n",
      "(225, 400, 3)\n",
      "(1, 225, 400, 3)\n",
      "(400, 309, 3)\n",
      "(1, 400, 309, 3)\n",
      "(210, 400, 3)\n",
      "(1, 210, 400, 3)\n",
      "(225, 400, 3)\n",
      "(1, 225, 400, 3)\n",
      "(400, 267, 3)\n",
      "(1, 400, 267, 3)\n",
      "(267, 400, 3)\n",
      "(1, 267, 400, 3)\n",
      "(400, 267, 3)\n",
      "(1, 400, 267, 3)\n",
      "(210, 400, 3)\n",
      "(1, 210, 400, 3)\n",
      "(400, 267, 3)\n",
      "(1, 400, 267, 3)\n",
      "(400, 267, 3)\n",
      "(1, 400, 267, 3)\n",
      "(400, 267, 3)\n",
      "(1, 400, 267, 3)\n",
      "(267, 400, 3)\n",
      "(1, 267, 400, 3)\n",
      "(400, 267, 3)\n",
      "(1, 400, 267, 3)\n",
      "(400, 332, 3)\n",
      "(1, 400, 332, 3)\n",
      "(400, 306, 3)\n",
      "(1, 400, 306, 3)\n",
      "(400, 267, 3)\n",
      "(1, 400, 267, 3)\n",
      "(400, 267, 3)\n",
      "(1, 400, 267, 3)\n",
      "(400, 279, 3)\n",
      "(1, 400, 279, 3)\n"
     ]
    }
   ],
   "source": [
    "for j in images:\n",
    "    if j.split('.')[1]==\"png\":\n",
    "        img = load_img(os.path.join(img_dir,j))\n",
    "        X = img_to_array(img)\n",
    "        print(X.shape)\n",
    "        X = X.reshape((1, ) + X.shape)\n",
    "        print(X.shape)\n",
    "        \n",
    "        \n",
    "        i = 0\n",
    "        for batch in datagen.flow(X, batch_size=16,\n",
    "                                 save_to_dir=\"augmented\",\n",
    "                                 save_prefix=\"new\",\n",
    "                                 save_format=\"png\"):\n",
    "            i += 1\n",
    "            if i > 15:\n",
    "                break\n",
    "                "
   ]
  },
  {
   "cell_type": "code",
   "execution_count": null,
   "id": "2fea2f0a-2dbe-4ae1-a9f2-482304e94c89",
   "metadata": {},
   "outputs": [],
   "source": []
  },
  {
   "cell_type": "code",
   "execution_count": null,
   "id": "c86c91fd-c967-4c26-98f9-115470a5d769",
   "metadata": {},
   "outputs": [],
   "source": []
  },
  {
   "cell_type": "code",
   "execution_count": null,
   "id": "0d63be6c-f728-4e00-b77f-03b5631d67c6",
   "metadata": {},
   "outputs": [],
   "source": []
  },
  {
   "cell_type": "code",
   "execution_count": null,
   "id": "55390a24-adf1-4845-90ee-10f9fe13ae93",
   "metadata": {},
   "outputs": [],
   "source": []
  },
  {
   "cell_type": "code",
   "execution_count": null,
   "id": "3dc1b9b2-b6d9-4909-be5a-2ac53c2b238b",
   "metadata": {},
   "outputs": [],
   "source": []
  },
  {
   "cell_type": "code",
   "execution_count": null,
   "id": "21755156-1b70-433d-9913-d205ce79c8eb",
   "metadata": {},
   "outputs": [],
   "source": []
  }
 ],
 "metadata": {
  "kernelspec": {
   "display_name": "Python 3 (ipykernel)",
   "language": "python",
   "name": "python3"
  },
  "language_info": {
   "codemirror_mode": {
    "name": "ipython",
    "version": 3
   },
   "file_extension": ".py",
   "mimetype": "text/x-python",
   "name": "python",
   "nbconvert_exporter": "python",
   "pygments_lexer": "ipython3",
   "version": "3.8.16"
  }
 },
 "nbformat": 4,
 "nbformat_minor": 5
}
